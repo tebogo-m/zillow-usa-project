{
 "cells": [
  {
   "cell_type": "markdown",
   "id": "bba185e5",
   "metadata": {},
   "source": [
    "Installing Dependencies"
   ]
  },
  {
   "cell_type": "code",
   "execution_count": 1,
   "id": "274b0457",
   "metadata": {},
   "outputs": [
    {
     "name": "stdout",
     "output_type": "stream",
     "text": [
      "Requirement already satisfied: snowflake-snowpark-python in /Library/Frameworks/Python.framework/Versions/3.11/lib/python3.11/site-packages (1.32.0)\n",
      "Requirement already satisfied: setuptools>=40.6.0 in /Library/Frameworks/Python.framework/Versions/3.11/lib/python3.11/site-packages (from snowflake-snowpark-python) (65.5.0)\n",
      "Requirement already satisfied: wheel in /Library/Frameworks/Python.framework/Versions/3.11/lib/python3.11/site-packages (from snowflake-snowpark-python) (0.45.1)\n",
      "Requirement already satisfied: snowflake-connector-python<4.0.0,>=3.14.0 in /Library/Frameworks/Python.framework/Versions/3.11/lib/python3.11/site-packages (from snowflake-snowpark-python) (3.14.0)\n",
      "Requirement already satisfied: typing-extensions<5.0.0,>=4.1.0 in /Users/ntebogeng/Library/Python/3.11/lib/python/site-packages (from snowflake-snowpark-python) (4.12.2)\n",
      "Requirement already satisfied: pyyaml in /Library/Frameworks/Python.framework/Versions/3.11/lib/python3.11/site-packages (from snowflake-snowpark-python) (6.0.2)\n",
      "Requirement already satisfied: cloudpickle!=2.1.0,!=2.2.0,<=3.0.0,>=1.6.0 in /Library/Frameworks/Python.framework/Versions/3.11/lib/python3.11/site-packages (from snowflake-snowpark-python) (3.0.0)\n",
      "Requirement already satisfied: protobuf<6,>=3.20 in /Library/Frameworks/Python.framework/Versions/3.11/lib/python3.11/site-packages (from snowflake-snowpark-python) (5.29.4)\n",
      "Requirement already satisfied: python-dateutil in /Users/ntebogeng/Library/Python/3.11/lib/python/site-packages (from snowflake-snowpark-python) (2.9.0.post0)\n",
      "Requirement already satisfied: tzlocal in /Library/Frameworks/Python.framework/Versions/3.11/lib/python3.11/site-packages (from snowflake-snowpark-python) (5.3.1)\n",
      "Requirement already satisfied: asn1crypto<2.0.0,>0.24.0 in /Library/Frameworks/Python.framework/Versions/3.11/lib/python3.11/site-packages (from snowflake-connector-python<4.0.0,>=3.14.0->snowflake-snowpark-python) (1.5.1)\n",
      "Requirement already satisfied: cffi<2.0.0,>=1.9 in /Library/Frameworks/Python.framework/Versions/3.11/lib/python3.11/site-packages (from snowflake-connector-python<4.0.0,>=3.14.0->snowflake-snowpark-python) (1.17.1)\n",
      "Requirement already satisfied: cryptography>=3.1.0 in /Library/Frameworks/Python.framework/Versions/3.11/lib/python3.11/site-packages (from snowflake-connector-python<4.0.0,>=3.14.0->snowflake-snowpark-python) (44.0.2)\n",
      "Requirement already satisfied: pyOpenSSL<26.0.0,>=22.0.0 in /Library/Frameworks/Python.framework/Versions/3.11/lib/python3.11/site-packages (from snowflake-connector-python<4.0.0,>=3.14.0->snowflake-snowpark-python) (25.0.0)\n",
      "Requirement already satisfied: pyjwt<3.0.0 in /Library/Frameworks/Python.framework/Versions/3.11/lib/python3.11/site-packages (from snowflake-connector-python<4.0.0,>=3.14.0->snowflake-snowpark-python) (2.10.1)\n",
      "Requirement already satisfied: pytz in /Library/Frameworks/Python.framework/Versions/3.11/lib/python3.11/site-packages (from snowflake-connector-python<4.0.0,>=3.14.0->snowflake-snowpark-python) (2025.1)\n",
      "Requirement already satisfied: requests<3.0.0 in /Library/Frameworks/Python.framework/Versions/3.11/lib/python3.11/site-packages (from snowflake-connector-python<4.0.0,>=3.14.0->snowflake-snowpark-python) (2.32.3)\n",
      "Requirement already satisfied: packaging in /Users/ntebogeng/Library/Python/3.11/lib/python/site-packages (from snowflake-connector-python<4.0.0,>=3.14.0->snowflake-snowpark-python) (24.2)\n",
      "Requirement already satisfied: charset_normalizer<4,>=2 in /Library/Frameworks/Python.framework/Versions/3.11/lib/python3.11/site-packages (from snowflake-connector-python<4.0.0,>=3.14.0->snowflake-snowpark-python) (3.4.1)\n",
      "Requirement already satisfied: idna<4,>=2.5 in /Library/Frameworks/Python.framework/Versions/3.11/lib/python3.11/site-packages (from snowflake-connector-python<4.0.0,>=3.14.0->snowflake-snowpark-python) (3.10)\n",
      "Requirement already satisfied: certifi>=2017.4.17 in /Library/Frameworks/Python.framework/Versions/3.11/lib/python3.11/site-packages (from snowflake-connector-python<4.0.0,>=3.14.0->snowflake-snowpark-python) (2025.1.31)\n",
      "Requirement already satisfied: filelock<4,>=3.5 in /Library/Frameworks/Python.framework/Versions/3.11/lib/python3.11/site-packages (from snowflake-connector-python<4.0.0,>=3.14.0->snowflake-snowpark-python) (3.18.0)\n",
      "Requirement already satisfied: sortedcontainers>=2.4.0 in /Library/Frameworks/Python.framework/Versions/3.11/lib/python3.11/site-packages (from snowflake-connector-python<4.0.0,>=3.14.0->snowflake-snowpark-python) (2.4.0)\n",
      "Requirement already satisfied: platformdirs<5.0.0,>=2.6.0 in /Users/ntebogeng/Library/Python/3.11/lib/python/site-packages (from snowflake-connector-python<4.0.0,>=3.14.0->snowflake-snowpark-python) (4.3.6)\n",
      "Requirement already satisfied: tomlkit in /Library/Frameworks/Python.framework/Versions/3.11/lib/python3.11/site-packages (from snowflake-connector-python<4.0.0,>=3.14.0->snowflake-snowpark-python) (0.13.2)\n",
      "Requirement already satisfied: pycparser in /Library/Frameworks/Python.framework/Versions/3.11/lib/python3.11/site-packages (from cffi<2.0.0,>=1.9->snowflake-connector-python<4.0.0,>=3.14.0->snowflake-snowpark-python) (2.22)\n",
      "Requirement already satisfied: urllib3<3,>=1.21.1 in /Library/Frameworks/Python.framework/Versions/3.11/lib/python3.11/site-packages (from requests<3.0.0->snowflake-connector-python<4.0.0,>=3.14.0->snowflake-snowpark-python) (2.3.0)\n",
      "Requirement already satisfied: six>=1.5 in /Users/ntebogeng/Library/Python/3.11/lib/python/site-packages (from python-dateutil->snowflake-snowpark-python) (1.17.0)\n",
      "zsh:1: command not found: pyhton3\n",
      "Requirement already satisfied: snowflake-connector-python[pandas] in /Library/Frameworks/Python.framework/Versions/3.11/lib/python3.11/site-packages (3.14.0)\n",
      "Requirement already satisfied: asn1crypto<2.0.0,>0.24.0 in /Library/Frameworks/Python.framework/Versions/3.11/lib/python3.11/site-packages (from snowflake-connector-python[pandas]) (1.5.1)\n",
      "Requirement already satisfied: cffi<2.0.0,>=1.9 in /Library/Frameworks/Python.framework/Versions/3.11/lib/python3.11/site-packages (from snowflake-connector-python[pandas]) (1.17.1)\n",
      "Requirement already satisfied: cryptography>=3.1.0 in /Library/Frameworks/Python.framework/Versions/3.11/lib/python3.11/site-packages (from snowflake-connector-python[pandas]) (44.0.2)\n",
      "Requirement already satisfied: pyOpenSSL<26.0.0,>=22.0.0 in /Library/Frameworks/Python.framework/Versions/3.11/lib/python3.11/site-packages (from snowflake-connector-python[pandas]) (25.0.0)\n",
      "Requirement already satisfied: pyjwt<3.0.0 in /Library/Frameworks/Python.framework/Versions/3.11/lib/python3.11/site-packages (from snowflake-connector-python[pandas]) (2.10.1)\n",
      "Requirement already satisfied: pytz in /Library/Frameworks/Python.framework/Versions/3.11/lib/python3.11/site-packages (from snowflake-connector-python[pandas]) (2025.1)\n",
      "Requirement already satisfied: requests<3.0.0 in /Library/Frameworks/Python.framework/Versions/3.11/lib/python3.11/site-packages (from snowflake-connector-python[pandas]) (2.32.3)\n",
      "Requirement already satisfied: packaging in /Users/ntebogeng/Library/Python/3.11/lib/python/site-packages (from snowflake-connector-python[pandas]) (24.2)\n",
      "Requirement already satisfied: charset_normalizer<4,>=2 in /Library/Frameworks/Python.framework/Versions/3.11/lib/python3.11/site-packages (from snowflake-connector-python[pandas]) (3.4.1)\n",
      "Requirement already satisfied: idna<4,>=2.5 in /Library/Frameworks/Python.framework/Versions/3.11/lib/python3.11/site-packages (from snowflake-connector-python[pandas]) (3.10)\n",
      "Requirement already satisfied: certifi>=2017.4.17 in /Library/Frameworks/Python.framework/Versions/3.11/lib/python3.11/site-packages (from snowflake-connector-python[pandas]) (2025.1.31)\n",
      "Requirement already satisfied: typing_extensions<5,>=4.3 in /Users/ntebogeng/Library/Python/3.11/lib/python/site-packages (from snowflake-connector-python[pandas]) (4.12.2)\n",
      "Requirement already satisfied: filelock<4,>=3.5 in /Library/Frameworks/Python.framework/Versions/3.11/lib/python3.11/site-packages (from snowflake-connector-python[pandas]) (3.18.0)\n",
      "Requirement already satisfied: sortedcontainers>=2.4.0 in /Library/Frameworks/Python.framework/Versions/3.11/lib/python3.11/site-packages (from snowflake-connector-python[pandas]) (2.4.0)\n",
      "Requirement already satisfied: platformdirs<5.0.0,>=2.6.0 in /Users/ntebogeng/Library/Python/3.11/lib/python/site-packages (from snowflake-connector-python[pandas]) (4.3.6)\n",
      "Requirement already satisfied: tomlkit in /Library/Frameworks/Python.framework/Versions/3.11/lib/python3.11/site-packages (from snowflake-connector-python[pandas]) (0.13.2)\n",
      "Requirement already satisfied: pandas<3.0.0,>=1.0.0 in /Library/Frameworks/Python.framework/Versions/3.11/lib/python3.11/site-packages (from snowflake-connector-python[pandas]) (2.2.3)\n",
      "Requirement already satisfied: pyarrow<19.0.0 in /Library/Frameworks/Python.framework/Versions/3.11/lib/python3.11/site-packages (from snowflake-connector-python[pandas]) (18.1.0)\n",
      "Requirement already satisfied: pycparser in /Library/Frameworks/Python.framework/Versions/3.11/lib/python3.11/site-packages (from cffi<2.0.0,>=1.9->snowflake-connector-python[pandas]) (2.22)\n",
      "Requirement already satisfied: numpy>=1.23.2 in /Library/Frameworks/Python.framework/Versions/3.11/lib/python3.11/site-packages (from pandas<3.0.0,>=1.0.0->snowflake-connector-python[pandas]) (2.2.3)\n",
      "Requirement already satisfied: python-dateutil>=2.8.2 in /Users/ntebogeng/Library/Python/3.11/lib/python/site-packages (from pandas<3.0.0,>=1.0.0->snowflake-connector-python[pandas]) (2.9.0.post0)\n",
      "Requirement already satisfied: tzdata>=2022.7 in /Library/Frameworks/Python.framework/Versions/3.11/lib/python3.11/site-packages (from pandas<3.0.0,>=1.0.0->snowflake-connector-python[pandas]) (2025.1)\n",
      "Requirement already satisfied: urllib3<3,>=1.21.1 in /Library/Frameworks/Python.framework/Versions/3.11/lib/python3.11/site-packages (from requests<3.0.0->snowflake-connector-python[pandas]) (2.3.0)\n",
      "Requirement already satisfied: six>=1.5 in /Users/ntebogeng/Library/Python/3.11/lib/python/site-packages (from python-dateutil>=2.8.2->pandas<3.0.0,>=1.0.0->snowflake-connector-python[pandas]) (1.17.0)\n"
     ]
    }
   ],
   "source": [
    "!python3 -m pip install snowflake-snowpark-python\n",
    "!pyhton3 -m pip install snowflake-connector-python\n",
    "!python3 -m pip install \"snowflake-connector-python[pandas]\""
   ]
  },
  {
   "cell_type": "markdown",
   "id": "e222fba3",
   "metadata": {},
   "source": [
    "Setting up python module 'getpass' to access Snowflake account without exposing sensitive information:"
   ]
  },
  {
   "cell_type": "code",
   "execution_count": 2,
   "id": "00ef561d",
   "metadata": {},
   "outputs": [],
   "source": [
    "import getpass\n",
    "\n",
    "account_id = getpass.getpass(\"Enter account:\")\n",
    "user = getpass.getpass(\"Enter user:\")\n",
    "pwd = getpass.getpass(\"Enter password:\")"
   ]
  },
  {
   "cell_type": "markdown",
   "id": "80a626c0",
   "metadata": {},
   "source": [
    "Connecting to Snowflake:"
   ]
  },
  {
   "cell_type": "code",
   "execution_count": 3,
   "id": "456c9521",
   "metadata": {},
   "outputs": [],
   "source": [
    "from snowflake.snowpark import Session as SnowflakeSession\n",
    "\n",
    "connection_parameters = {\n",
    "    \"account\": account_id,\n",
    "    \"user\": user,\n",
    "    \"password\" : pwd,\n",
    "    \"role\": \"dbt_role\",\n",
    "    \"warehouse\": \"zillow_wh\"\n",
    "    \n",
    "}\n",
    "\n",
    "session = SnowflakeSession.builder.configs(connection_parameters).create()"
   ]
  },
  {
   "cell_type": "markdown",
   "id": "c0802342",
   "metadata": {},
   "source": [
    "Querying Snowflake:"
   ]
  },
  {
   "cell_type": "code",
   "execution_count": 4,
   "id": "d89bc49a",
   "metadata": {},
   "outputs": [],
   "source": [
    "df =session.table('zillow_dbt_project_db.dbt_schema.gold_zillow_home_values_usa').to_pandas()"
   ]
  },
  {
   "cell_type": "markdown",
   "id": "ca2c54b0",
   "metadata": {},
   "source": [
    "Group the dataframe by columns to be able to perform YoY performance calculations"
   ]
  },
  {
   "cell_type": "code",
   "execution_count": 5,
   "id": "1a89b58d",
   "metadata": {},
   "outputs": [
    {
     "name": "stdout",
     "output_type": "stream",
     "text": [
      "Index(['VALUATION_YEAR', 'METRO', 'INDICATOR_ID', 'AVG_HOME_VALUE'], dtype='object')\n"
     ]
    }
   ],
   "source": [
    "print(df.columns)"
   ]
  },
  {
   "cell_type": "code",
   "execution_count": 11,
   "id": "7e50a11e",
   "metadata": {},
   "outputs": [],
   "source": [
    "df_1_bedroom = df[df['INDICATOR_ID'] == 'Z1BR'].copy()"
   ]
  },
  {
   "cell_type": "code",
   "execution_count": null,
   "id": "a9f7f8f3",
   "metadata": {},
   "outputs": [
    {
     "name": "stdout",
     "output_type": "stream",
     "text": [
      "     VALUATION_YEAR          METRO INDICATOR_ID  AVG_HOME_VALUE\n",
      "56             2007  United States         Z1BR       145731.77\n",
      "57             2006  United States         Z1BR       145038.52\n",
      "58             2005  United States         Z1BR       130453.36\n",
      "59             2004  United States         Z1BR       113078.98\n",
      "60             2003  United States         Z1BR       100495.90\n",
      "61             2002  United States         Z1BR        90708.39\n",
      "62             2001  United States         Z1BR        82397.02\n",
      "63             2000  United States         Z1BR        74847.46\n",
      "64             1999  United States         Z1BR        81130.58\n",
      "65             1998  United States         Z1BR        76441.83\n",
      "66             1997  United States         Z1BR        73029.58\n",
      "67             1996  United States         Z1BR        71543.33\n",
      "94             2025  United States         Z1BR       243749.39\n",
      "95             2024  United States         Z1BR       243406.12\n",
      "96             2023  United States         Z1BR       237521.17\n",
      "97             2022  United States         Z1BR       229353.89\n",
      "98             2021  United States         Z1BR       200934.40\n",
      "99             2020  United States         Z1BR       179449.72\n",
      "100            2019  United States         Z1BR       169461.24\n",
      "101            2018  United States         Z1BR       160246.52\n",
      "102            2017  United States         Z1BR       147680.42\n",
      "103            2016  United States         Z1BR       136847.05\n",
      "104            2015  United States         Z1BR       127428.46\n",
      "105            2014  United States         Z1BR       119363.24\n",
      "106            2013  United States         Z1BR       108284.32\n",
      "107            2012  United States         Z1BR        98952.34\n",
      "108            2011  United States         Z1BR       100401.56\n",
      "109            2010  United States         Z1BR       108681.06\n",
      "110            2009  United States         Z1BR       116205.68\n",
      "111            2008  United States         Z1BR       133513.40\n"
     ]
    }
   ],
   "source": [
    "print(df_1_bedroom)"
   ]
  },
  {
   "cell_type": "code",
   "execution_count": 15,
   "id": "d1b980fb",
   "metadata": {},
   "outputs": [],
   "source": [
    "df_sorted_1_bedroom = df_1_bedroom.sort_values (by ='VALUATION_YEAR', ascending=True)"
   ]
  },
  {
   "cell_type": "code",
   "execution_count": 16,
   "id": "7aef5a51",
   "metadata": {},
   "outputs": [
    {
     "name": "stdout",
     "output_type": "stream",
     "text": [
      "     VALUATION_YEAR          METRO INDICATOR_ID  AVG_HOME_VALUE\n",
      "67             1996  United States         Z1BR        71543.33\n",
      "66             1997  United States         Z1BR        73029.58\n",
      "65             1998  United States         Z1BR        76441.83\n",
      "64             1999  United States         Z1BR        81130.58\n",
      "63             2000  United States         Z1BR        74847.46\n",
      "62             2001  United States         Z1BR        82397.02\n",
      "61             2002  United States         Z1BR        90708.39\n",
      "60             2003  United States         Z1BR       100495.90\n",
      "59             2004  United States         Z1BR       113078.98\n",
      "58             2005  United States         Z1BR       130453.36\n",
      "57             2006  United States         Z1BR       145038.52\n",
      "56             2007  United States         Z1BR       145731.77\n",
      "111            2008  United States         Z1BR       133513.40\n",
      "110            2009  United States         Z1BR       116205.68\n",
      "109            2010  United States         Z1BR       108681.06\n",
      "108            2011  United States         Z1BR       100401.56\n",
      "107            2012  United States         Z1BR        98952.34\n",
      "106            2013  United States         Z1BR       108284.32\n",
      "105            2014  United States         Z1BR       119363.24\n",
      "104            2015  United States         Z1BR       127428.46\n",
      "103            2016  United States         Z1BR       136847.05\n",
      "102            2017  United States         Z1BR       147680.42\n",
      "101            2018  United States         Z1BR       160246.52\n",
      "100            2019  United States         Z1BR       169461.24\n",
      "99             2020  United States         Z1BR       179449.72\n",
      "98             2021  United States         Z1BR       200934.40\n",
      "97             2022  United States         Z1BR       229353.89\n",
      "96             2023  United States         Z1BR       237521.17\n",
      "95             2024  United States         Z1BR       243406.12\n",
      "94             2025  United States         Z1BR       243749.39\n"
     ]
    }
   ],
   "source": [
    "print(df_sorted_1_bedroom)"
   ]
  },
  {
   "cell_type": "code",
   "execution_count": 24,
   "id": "b6472a30",
   "metadata": {},
   "outputs": [],
   "source": [
    "df_sorted_1_bedroom['YoY_Percentage_Change'] = (df_sorted_1_bedroom['AVG_HOME_VALUE'].pct_change() *100).round(2)"
   ]
  },
  {
   "cell_type": "code",
   "execution_count": 25,
   "id": "4cda39ad",
   "metadata": {},
   "outputs": [
    {
     "name": "stdout",
     "output_type": "stream",
     "text": [
      "    VALUATION_YEAR          METRO INDICATOR_ID  AVG_HOME_VALUE  \\\n",
      "67            1996  United States         Z1BR        71543.33   \n",
      "66            1997  United States         Z1BR        73029.58   \n",
      "65            1998  United States         Z1BR        76441.83   \n",
      "64            1999  United States         Z1BR        81130.58   \n",
      "63            2000  United States         Z1BR        74847.46   \n",
      "\n",
      "    YoY_Percentage_Change  \n",
      "67                    NaN  \n",
      "66                   2.08  \n",
      "65                   4.67  \n",
      "64                   6.13  \n",
      "63                  -7.74  \n"
     ]
    }
   ],
   "source": [
    "print(df_sorted_1_bedroom.head())"
   ]
  }
 ],
 "metadata": {
  "kernelspec": {
   "display_name": "Python 3",
   "language": "python",
   "name": "python3"
  },
  "language_info": {
   "codemirror_mode": {
    "name": "ipython",
    "version": 3
   },
   "file_extension": ".py",
   "mimetype": "text/x-python",
   "name": "python",
   "nbconvert_exporter": "python",
   "pygments_lexer": "ipython3",
   "version": "3.11.6"
  }
 },
 "nbformat": 4,
 "nbformat_minor": 5
}
